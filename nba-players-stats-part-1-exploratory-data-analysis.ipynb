{
 "cells": [
  {
   "cell_type": "markdown",
   "metadata": {},
   "source": [
    "# Analyze  NBA Player statistics"
   ]
  },
  {
   "cell_type": "markdown",
   "metadata": {},
   "source": [
    "## Introduction"
   ]
  },
  {
   "cell_type": "markdown",
   "metadata": {},
   "source": [
    "We analyze the 2017-2018 NBA players data. The data was downloaded from [basketball-reference](https://www.basketball-reference.com/)."
   ]
  },
  {
   "cell_type": "code",
   "execution_count": null,
   "metadata": {},
   "outputs": [],
   "source": []
  },
  {
   "cell_type": "markdown",
   "metadata": {},
   "source": [
    "## Project Goal"
   ]
  },
  {
   "cell_type": "markdown",
   "metadata": {},
   "source": [
    "What you want to do with this project?\n",
    "\n",
    "explain your ideas and goals here."
   ]
  },
  {
   "cell_type": "code",
   "execution_count": null,
   "metadata": {},
   "outputs": [],
   "source": []
  },
  {
   "cell_type": "markdown",
   "metadata": {},
   "source": [
    "## Set up"
   ]
  },
  {
   "cell_type": "code",
   "execution_count": 1,
   "metadata": {},
   "outputs": [],
   "source": [
    "import pandas as pd\n",
    "import numpy as np\n",
    "import seaborn as sns\n",
    "import matplotlib.pyplot as plt\n",
    "%matplotlib inline\n",
    "# Pick a style\n",
    "plt.style.use('seaborn-darkgrid')\n",
    "plt.rcParams['font.size'] = 15\n",
    "plt.rcParams[\"font.family\"] = \"Times New Roman\""
   ]
  },
  {
   "cell_type": "markdown",
   "metadata": {},
   "source": [
    "## Glossary"
   ]
  },
  {
   "cell_type": "markdown",
   "metadata": {},
   "source": [
    "There are 30 columns in the dataset, and their meanings are listed as below. \n",
    "\n",
    "* Rk -- Rank (an unique index for each player, it may be duplicated if a player played for multiple teams in a single season).\n",
    "\n",
    "* Player -- Player name.\n",
    "\n",
    "* Pos -- Position.\n",
    "\n",
    "* Age -- Age of Player at the start of February 1st of that season.\n",
    "\n",
    "* Tm -- Team. \n",
    "\n",
    "* G -- Games.\n",
    "\n",
    "* GS -- Games Started.\n",
    "\n",
    "* MP -- Minutes Played Per Game.\n",
    "\n",
    "* FG -- Field Goals Per Game.\n",
    "\n",
    "* FGA -- Field Goal Attempts Per Game.\n",
    "\n",
    "* FG% -- Field Goal Percentage.\n",
    "\n",
    "* 3P -- 3-Point Field Goals Per Game.\n",
    "\n",
    "* 3PA -- 3-Point Field Goal Attempts Per Game.\n",
    "\n",
    "* 3P% -- FG% on 3-Pt FGAs.\n",
    "\n",
    "* 2P -- 2-Point Field Goals Per Game.\n",
    "\n",
    "* 2PA -- 2-Point Field Goal Attempts Per Game.\n",
    "\n",
    "* 2P% -- FG% on 2-Pt FGAs.\n",
    "\n",
    "* eFG% -- Effective Field Goal Percentage: This statistic adjusts for the fact that a 3-point field goal is worth one more point than a 2-point field goal.\n",
    "\n",
    "* FT -- Free Throws Per Game.\n",
    "\n",
    "* FTA -- Free Throw Attempts Per Game.\n",
    "\n",
    "* FT% -- Free Throw Percentage.\n",
    "\n",
    "* ORB -- Offensive Rebounds Per Game.\n",
    "\n",
    "* DRB -- Defensive Rebounds Per Game.\n",
    "\n",
    "* TRB -- Total Rebounds Per Game.\n",
    "\n",
    "* AST -- Assists Per Game.\n",
    "\n",
    "* STL -- Steals Per Game.\n",
    "\n",
    "* BLK -- Blocks Per Game.\n",
    "\n",
    "* TOV -- Turnovers Per Game.\n",
    "\n",
    "* PF -- Personal Fouls Per Game.\n",
    "\n",
    "* PS/G -- Points Per Game."
   ]
  },
  {
   "cell_type": "code",
   "execution_count": 2,
   "metadata": {},
   "outputs": [
    {
     "data": {
      "text/html": [
       "<div>\n",
       "<style scoped>\n",
       "    .dataframe tbody tr th:only-of-type {\n",
       "        vertical-align: middle;\n",
       "    }\n",
       "\n",
       "    .dataframe tbody tr th {\n",
       "        vertical-align: top;\n",
       "    }\n",
       "\n",
       "    .dataframe thead th {\n",
       "        text-align: right;\n",
       "    }\n",
       "</style>\n",
       "<table border=\"1\" class=\"dataframe\">\n",
       "  <thead>\n",
       "    <tr style=\"text-align: right;\">\n",
       "      <th></th>\n",
       "      <th>Rk</th>\n",
       "      <th>Player</th>\n",
       "      <th>Pos</th>\n",
       "      <th>Age</th>\n",
       "      <th>Tm</th>\n",
       "      <th>G</th>\n",
       "      <th>GS</th>\n",
       "      <th>MP</th>\n",
       "      <th>FG</th>\n",
       "      <th>FGA</th>\n",
       "      <th>...</th>\n",
       "      <th>FT%</th>\n",
       "      <th>ORB</th>\n",
       "      <th>DRB</th>\n",
       "      <th>TRB</th>\n",
       "      <th>AST</th>\n",
       "      <th>STL</th>\n",
       "      <th>BLK</th>\n",
       "      <th>TOV</th>\n",
       "      <th>PF</th>\n",
       "      <th>PS/G</th>\n",
       "    </tr>\n",
       "  </thead>\n",
       "  <tbody>\n",
       "    <tr>\n",
       "      <th>0</th>\n",
       "      <td>1</td>\n",
       "      <td>Alex Abrines\\abrinal01</td>\n",
       "      <td>SG</td>\n",
       "      <td>24</td>\n",
       "      <td>OKC</td>\n",
       "      <td>75</td>\n",
       "      <td>8</td>\n",
       "      <td>15.1</td>\n",
       "      <td>1.5</td>\n",
       "      <td>3.9</td>\n",
       "      <td>...</td>\n",
       "      <td>0.848</td>\n",
       "      <td>0.3</td>\n",
       "      <td>1.2</td>\n",
       "      <td>1.5</td>\n",
       "      <td>0.4</td>\n",
       "      <td>0.5</td>\n",
       "      <td>0.1</td>\n",
       "      <td>0.3</td>\n",
       "      <td>1.7</td>\n",
       "      <td>4.7</td>\n",
       "    </tr>\n",
       "    <tr>\n",
       "      <th>1</th>\n",
       "      <td>2</td>\n",
       "      <td>Quincy Acy\\acyqu01</td>\n",
       "      <td>PF</td>\n",
       "      <td>27</td>\n",
       "      <td>BRK</td>\n",
       "      <td>70</td>\n",
       "      <td>8</td>\n",
       "      <td>19.4</td>\n",
       "      <td>1.9</td>\n",
       "      <td>5.2</td>\n",
       "      <td>...</td>\n",
       "      <td>0.817</td>\n",
       "      <td>0.6</td>\n",
       "      <td>3.1</td>\n",
       "      <td>3.7</td>\n",
       "      <td>0.8</td>\n",
       "      <td>0.5</td>\n",
       "      <td>0.4</td>\n",
       "      <td>0.9</td>\n",
       "      <td>2.1</td>\n",
       "      <td>5.9</td>\n",
       "    </tr>\n",
       "    <tr>\n",
       "      <th>2</th>\n",
       "      <td>3</td>\n",
       "      <td>Steven Adams\\adamsst01</td>\n",
       "      <td>C</td>\n",
       "      <td>24</td>\n",
       "      <td>OKC</td>\n",
       "      <td>76</td>\n",
       "      <td>76</td>\n",
       "      <td>32.7</td>\n",
       "      <td>5.9</td>\n",
       "      <td>9.4</td>\n",
       "      <td>...</td>\n",
       "      <td>0.557</td>\n",
       "      <td>5.1</td>\n",
       "      <td>4.0</td>\n",
       "      <td>9.0</td>\n",
       "      <td>1.2</td>\n",
       "      <td>1.2</td>\n",
       "      <td>1.0</td>\n",
       "      <td>1.7</td>\n",
       "      <td>2.8</td>\n",
       "      <td>13.9</td>\n",
       "    </tr>\n",
       "    <tr>\n",
       "      <th>3</th>\n",
       "      <td>4</td>\n",
       "      <td>Bam Adebayo\\adebaba01</td>\n",
       "      <td>C</td>\n",
       "      <td>20</td>\n",
       "      <td>MIA</td>\n",
       "      <td>69</td>\n",
       "      <td>19</td>\n",
       "      <td>19.8</td>\n",
       "      <td>2.5</td>\n",
       "      <td>4.9</td>\n",
       "      <td>...</td>\n",
       "      <td>0.721</td>\n",
       "      <td>1.7</td>\n",
       "      <td>3.8</td>\n",
       "      <td>5.5</td>\n",
       "      <td>1.5</td>\n",
       "      <td>0.5</td>\n",
       "      <td>0.6</td>\n",
       "      <td>1.0</td>\n",
       "      <td>2.0</td>\n",
       "      <td>6.9</td>\n",
       "    </tr>\n",
       "    <tr>\n",
       "      <th>4</th>\n",
       "      <td>5</td>\n",
       "      <td>Arron Afflalo\\afflaar01</td>\n",
       "      <td>SG</td>\n",
       "      <td>32</td>\n",
       "      <td>ORL</td>\n",
       "      <td>53</td>\n",
       "      <td>3</td>\n",
       "      <td>12.9</td>\n",
       "      <td>1.2</td>\n",
       "      <td>3.1</td>\n",
       "      <td>...</td>\n",
       "      <td>0.846</td>\n",
       "      <td>0.1</td>\n",
       "      <td>1.2</td>\n",
       "      <td>1.2</td>\n",
       "      <td>0.6</td>\n",
       "      <td>0.1</td>\n",
       "      <td>0.2</td>\n",
       "      <td>0.4</td>\n",
       "      <td>1.1</td>\n",
       "      <td>3.4</td>\n",
       "    </tr>\n",
       "  </tbody>\n",
       "</table>\n",
       "<p>5 rows × 30 columns</p>\n",
       "</div>"
      ],
      "text/plain": [
       "   Rk                   Player Pos  Age   Tm   G  GS    MP   FG  FGA  ...  \\\n",
       "0   1   Alex Abrines\\abrinal01  SG   24  OKC  75   8  15.1  1.5  3.9  ...   \n",
       "1   2       Quincy Acy\\acyqu01  PF   27  BRK  70   8  19.4  1.9  5.2  ...   \n",
       "2   3   Steven Adams\\adamsst01   C   24  OKC  76  76  32.7  5.9  9.4  ...   \n",
       "3   4    Bam Adebayo\\adebaba01   C   20  MIA  69  19  19.8  2.5  4.9  ...   \n",
       "4   5  Arron Afflalo\\afflaar01  SG   32  ORL  53   3  12.9  1.2  3.1  ...   \n",
       "\n",
       "     FT%  ORB  DRB  TRB  AST  STL  BLK  TOV   PF  PS/G  \n",
       "0  0.848  0.3  1.2  1.5  0.4  0.5  0.1  0.3  1.7   4.7  \n",
       "1  0.817  0.6  3.1  3.7  0.8  0.5  0.4  0.9  2.1   5.9  \n",
       "2  0.557  5.1  4.0  9.0  1.2  1.2  1.0  1.7  2.8  13.9  \n",
       "3  0.721  1.7  3.8  5.5  1.5  0.5  0.6  1.0  2.0   6.9  \n",
       "4  0.846  0.1  1.2  1.2  0.6  0.1  0.2  0.4  1.1   3.4  \n",
       "\n",
       "[5 rows x 30 columns]"
      ]
     },
     "execution_count": 2,
     "metadata": {},
     "output_type": "execute_result"
    }
   ],
   "source": [
    "# load the per game stats for the 2017-2018 season players\n",
    "data = pd.read_csv('./data/2017-18-NBA-Player-Stats-Per-Game.csv')\n",
    "data.head()"
   ]
  },
  {
   "cell_type": "code",
   "execution_count": 3,
   "metadata": {},
   "outputs": [
    {
     "data": {
      "text/plain": [
       "Rk          int64\n",
       "Player     object\n",
       "Pos        object\n",
       "Age         int64\n",
       "Tm         object\n",
       "G           int64\n",
       "GS          int64\n",
       "MP        float64\n",
       "FG        float64\n",
       "FGA       float64\n",
       "FG%       float64\n",
       "3P        float64\n",
       "3PA       float64\n",
       "3P%       float64\n",
       "2P        float64\n",
       "2PA       float64\n",
       "2P%       float64\n",
       "eFG%      float64\n",
       "FT        float64\n",
       "FTA       float64\n",
       "FT%       float64\n",
       "ORB       float64\n",
       "DRB       float64\n",
       "TRB       float64\n",
       "AST       float64\n",
       "STL       float64\n",
       "BLK       float64\n",
       "TOV       float64\n",
       "PF        float64\n",
       "PS/G      float64\n",
       "dtype: object"
      ]
     },
     "execution_count": 3,
     "metadata": {},
     "output_type": "execute_result"
    }
   ],
   "source": [
    "data.dtypes"
   ]
  },
  {
   "cell_type": "markdown",
   "metadata": {},
   "source": [
    "## Data cleaning"
   ]
  },
  {
   "cell_type": "code",
   "execution_count": 4,
   "metadata": {},
   "outputs": [],
   "source": [
    "# clean the 'Player' column\n",
    "data['Player'] = data['Player'].apply(lambda x: x.split(\"\\\\\")[0])\n"
   ]
  },
  {
   "cell_type": "code",
   "execution_count": 5,
   "metadata": {},
   "outputs": [
    {
     "name": "stdout",
     "output_type": "stream",
     "text": [
      "540\n",
      "(664, 30)\n",
      "      Rk       Player Pos  Age   Tm   G  GS    MP   FG   FGA  ...    FT%  ORB  \\\n",
      "608  495  Dwyane Wade  SG   36  TOT  67   3  22.9  4.5  10.2  ...  0.714  0.7   \n",
      "609  495  Dwyane Wade  SG   36  CLE  46   3  23.2  4.3   9.5  ...  0.701  0.8   \n",
      "610  495  Dwyane Wade  SG   36  MIA  21   0  22.2  4.8  11.8  ...  0.745  0.5   \n",
      "\n",
      "     DRB  TRB  AST  STL  BLK  TOV   PF  PS/G  \n",
      "608  3.0  3.8  3.4  0.9  0.7  2.1  1.9  11.4  \n",
      "609  3.1  3.9  3.5  0.9  0.7  2.0  1.8  11.2  \n",
      "610  2.9  3.4  3.1  0.9  0.7  2.3  1.9  12.0  \n",
      "\n",
      "[3 rows x 30 columns]\n"
     ]
    },
    {
     "data": {
      "text/html": [
       "<div>\n",
       "<style scoped>\n",
       "    .dataframe tbody tr th:only-of-type {\n",
       "        vertical-align: middle;\n",
       "    }\n",
       "\n",
       "    .dataframe tbody tr th {\n",
       "        vertical-align: top;\n",
       "    }\n",
       "\n",
       "    .dataframe thead th {\n",
       "        text-align: right;\n",
       "    }\n",
       "</style>\n",
       "<table border=\"1\" class=\"dataframe\">\n",
       "  <thead>\n",
       "    <tr style=\"text-align: right;\">\n",
       "      <th></th>\n",
       "      <th>Rk</th>\n",
       "      <th>Player</th>\n",
       "      <th>Pos</th>\n",
       "      <th>Age</th>\n",
       "      <th>Tm</th>\n",
       "      <th>G</th>\n",
       "      <th>GS</th>\n",
       "      <th>MP</th>\n",
       "      <th>FG</th>\n",
       "      <th>FGA</th>\n",
       "      <th>...</th>\n",
       "      <th>FT%</th>\n",
       "      <th>ORB</th>\n",
       "      <th>DRB</th>\n",
       "      <th>TRB</th>\n",
       "      <th>AST</th>\n",
       "      <th>STL</th>\n",
       "      <th>BLK</th>\n",
       "      <th>TOV</th>\n",
       "      <th>PF</th>\n",
       "      <th>PS/G</th>\n",
       "    </tr>\n",
       "  </thead>\n",
       "  <tbody>\n",
       "    <tr>\n",
       "      <th>0</th>\n",
       "      <td>1.0</td>\n",
       "      <td>Alex Abrines</td>\n",
       "      <td>SG</td>\n",
       "      <td>24.0</td>\n",
       "      <td>OKC</td>\n",
       "      <td>75.0</td>\n",
       "      <td>8.0</td>\n",
       "      <td>15.1</td>\n",
       "      <td>1.5</td>\n",
       "      <td>3.9</td>\n",
       "      <td>...</td>\n",
       "      <td>0.848</td>\n",
       "      <td>0.3</td>\n",
       "      <td>1.2</td>\n",
       "      <td>1.5</td>\n",
       "      <td>0.4</td>\n",
       "      <td>0.5</td>\n",
       "      <td>0.1</td>\n",
       "      <td>0.3</td>\n",
       "      <td>1.7</td>\n",
       "      <td>4.7</td>\n",
       "    </tr>\n",
       "    <tr>\n",
       "      <th>1</th>\n",
       "      <td>2.0</td>\n",
       "      <td>Quincy Acy</td>\n",
       "      <td>PF</td>\n",
       "      <td>27.0</td>\n",
       "      <td>BRK</td>\n",
       "      <td>70.0</td>\n",
       "      <td>8.0</td>\n",
       "      <td>19.4</td>\n",
       "      <td>1.9</td>\n",
       "      <td>5.2</td>\n",
       "      <td>...</td>\n",
       "      <td>0.817</td>\n",
       "      <td>0.6</td>\n",
       "      <td>3.1</td>\n",
       "      <td>3.7</td>\n",
       "      <td>0.8</td>\n",
       "      <td>0.5</td>\n",
       "      <td>0.4</td>\n",
       "      <td>0.9</td>\n",
       "      <td>2.1</td>\n",
       "      <td>5.9</td>\n",
       "    </tr>\n",
       "    <tr>\n",
       "      <th>2</th>\n",
       "      <td>3.0</td>\n",
       "      <td>Steven Adams</td>\n",
       "      <td>C</td>\n",
       "      <td>24.0</td>\n",
       "      <td>OKC</td>\n",
       "      <td>76.0</td>\n",
       "      <td>76.0</td>\n",
       "      <td>32.7</td>\n",
       "      <td>5.9</td>\n",
       "      <td>9.4</td>\n",
       "      <td>...</td>\n",
       "      <td>0.557</td>\n",
       "      <td>5.1</td>\n",
       "      <td>4.0</td>\n",
       "      <td>9.0</td>\n",
       "      <td>1.2</td>\n",
       "      <td>1.2</td>\n",
       "      <td>1.0</td>\n",
       "      <td>1.7</td>\n",
       "      <td>2.8</td>\n",
       "      <td>13.9</td>\n",
       "    </tr>\n",
       "    <tr>\n",
       "      <th>3</th>\n",
       "      <td>4.0</td>\n",
       "      <td>Bam Adebayo</td>\n",
       "      <td>C</td>\n",
       "      <td>20.0</td>\n",
       "      <td>MIA</td>\n",
       "      <td>69.0</td>\n",
       "      <td>19.0</td>\n",
       "      <td>19.8</td>\n",
       "      <td>2.5</td>\n",
       "      <td>4.9</td>\n",
       "      <td>...</td>\n",
       "      <td>0.721</td>\n",
       "      <td>1.7</td>\n",
       "      <td>3.8</td>\n",
       "      <td>5.5</td>\n",
       "      <td>1.5</td>\n",
       "      <td>0.5</td>\n",
       "      <td>0.6</td>\n",
       "      <td>1.0</td>\n",
       "      <td>2.0</td>\n",
       "      <td>6.9</td>\n",
       "    </tr>\n",
       "    <tr>\n",
       "      <th>4</th>\n",
       "      <td>5.0</td>\n",
       "      <td>Arron Afflalo</td>\n",
       "      <td>SG</td>\n",
       "      <td>32.0</td>\n",
       "      <td>ORL</td>\n",
       "      <td>53.0</td>\n",
       "      <td>3.0</td>\n",
       "      <td>12.9</td>\n",
       "      <td>1.2</td>\n",
       "      <td>3.1</td>\n",
       "      <td>...</td>\n",
       "      <td>0.846</td>\n",
       "      <td>0.1</td>\n",
       "      <td>1.2</td>\n",
       "      <td>1.2</td>\n",
       "      <td>0.6</td>\n",
       "      <td>0.1</td>\n",
       "      <td>0.2</td>\n",
       "      <td>0.4</td>\n",
       "      <td>1.1</td>\n",
       "      <td>3.4</td>\n",
       "    </tr>\n",
       "  </tbody>\n",
       "</table>\n",
       "<p>5 rows × 30 columns</p>\n",
       "</div>"
      ],
      "text/plain": [
       "    Rk         Player Pos   Age   Tm     G    GS    MP   FG  FGA  ...    FT%  \\\n",
       "0  1.0   Alex Abrines  SG  24.0  OKC  75.0   8.0  15.1  1.5  3.9  ...  0.848   \n",
       "1  2.0     Quincy Acy  PF  27.0  BRK  70.0   8.0  19.4  1.9  5.2  ...  0.817   \n",
       "2  3.0   Steven Adams   C  24.0  OKC  76.0  76.0  32.7  5.9  9.4  ...  0.557   \n",
       "3  4.0    Bam Adebayo   C  20.0  MIA  69.0  19.0  19.8  2.5  4.9  ...  0.721   \n",
       "4  5.0  Arron Afflalo  SG  32.0  ORL  53.0   3.0  12.9  1.2  3.1  ...  0.846   \n",
       "\n",
       "   ORB  DRB  TRB  AST  STL  BLK  TOV   PF  PS/G  \n",
       "0  0.3  1.2  1.5  0.4  0.5  0.1  0.3  1.7   4.7  \n",
       "1  0.6  3.1  3.7  0.8  0.5  0.4  0.9  2.1   5.9  \n",
       "2  5.1  4.0  9.0  1.2  1.2  1.0  1.7  2.8  13.9  \n",
       "3  1.7  3.8  5.5  1.5  0.5  0.6  1.0  2.0   6.9  \n",
       "4  0.1  1.2  1.2  0.6  0.1  0.2  0.4  1.1   3.4  \n",
       "\n",
       "[5 rows x 30 columns]"
      ]
     },
     "execution_count": 5,
     "metadata": {},
     "output_type": "execute_result"
    }
   ],
   "source": [
    "# the total number of players is 540\n",
    "print(data['Rk'].max())\n",
    "# the total number of rows is 664\n",
    "print(data.shape)\n",
    "# a few players played for multiple teams in a single season, only the first row should be used.\n",
    "# for example, \"Dwyane Wade\", the first row is the sum of the rest rows for these players, we only take the 1st row\n",
    "print(data[data[\"Player\"]==\"Dwyane Wade\"])\n",
    "\n",
    "data_players = pd.DataFrame()\n",
    "# the following method works, here is another possible method: https://stackoverflow.com/questions/32093829/pythonpandas-removing-duplicates-based-on-two-columns-keeping-row-with-max-va\n",
    "for i in range(1,data['Rk'].max()+1): # the first Rank is \"1\", not \"0\"\n",
    "    data_temp = data[data['Rk'] == i]\n",
    "    # we only pick the first row of the temporary dataframe\n",
    "    data_players=data_players.append(data_temp.iloc[0])[data_temp.columns.tolist()]\n",
    "\n",
    "data_players.head()"
   ]
  },
  {
   "cell_type": "code",
   "execution_count": 6,
   "metadata": {},
   "outputs": [
    {
     "name": "stdout",
     "output_type": "stream",
     "text": [
      "        Rk         Player Pos   Age   Tm     G    GS    MP   FG  FGA  ...  \\\n",
      "0      1.0   Alex Abrines  SG  24.0  OKC  75.0   8.0  15.1  1.5  3.9  ...   \n",
      "1      2.0     Quincy Acy  PF  27.0  BRK  70.0   8.0  19.4  1.9  5.2  ...   \n",
      "2      3.0   Steven Adams   C  24.0  OKC  76.0  76.0  32.7  5.9  9.4  ...   \n",
      "3      4.0    Bam Adebayo   C  20.0  MIA  69.0  19.0  19.8  2.5  4.9  ...   \n",
      "4      5.0  Arron Afflalo  SG  32.0  ORL  53.0   3.0  12.9  1.2  3.1  ...   \n",
      "..     ...            ...  ..   ...  ...   ...   ...   ...  ...  ...  ...   \n",
      "657  536.0    Cody Zeller   C  25.0  CHO  33.0   0.0  19.0  2.6  4.7  ...   \n",
      "658  537.0   Tyler Zeller   C  28.0  TOT  66.0  34.0  16.8  2.8  5.1  ...   \n",
      "661  538.0    Paul Zipser  SF  23.0  CHI  54.0  12.0  15.3  1.5  4.3  ...   \n",
      "662  539.0     Ante Zizic   C  21.0  CLE  32.0   2.0   6.7  1.5  2.1  ...   \n",
      "663  540.0    Ivica Zubac   C  20.0  LAL  43.0   0.0   9.5  1.4  2.8  ...   \n",
      "\n",
      "       FT%  ORB  DRB  TRB  AST  STL  BLK  TOV   PF  PS/G  \n",
      "0    0.848  0.3  1.2  1.5  0.4  0.5  0.1  0.3  1.7   4.7  \n",
      "1    0.817  0.6  3.1  3.7  0.8  0.5  0.4  0.9  2.1   5.9  \n",
      "2    0.557  5.1  4.0  9.0  1.2  1.2  1.0  1.7  2.8  13.9  \n",
      "3    0.721  1.7  3.8  5.5  1.5  0.5  0.6  1.0  2.0   6.9  \n",
      "4    0.846  0.1  1.2  1.2  0.6  0.1  0.2  0.4  1.1   3.4  \n",
      "..     ...  ...  ...  ...  ...  ...  ...  ...  ...   ...  \n",
      "657  0.718  2.0  3.3  5.4  0.9  0.4  0.6  1.0  2.5   7.1  \n",
      "658  0.722  1.7  3.0  4.6  0.7  0.2  0.5  0.7  1.9   6.7  \n",
      "661  0.731  0.2  2.2  2.4  0.9  0.4  0.3  0.8  1.6   4.0  \n",
      "662  0.724  0.8  1.1  1.9  0.2  0.1  0.4  0.3  0.9   3.7  \n",
      "663  0.765  1.0  1.8  2.9  0.6  0.2  0.3  0.6  1.1   3.7  \n",
      "\n",
      "[540 rows x 30 columns]\n"
     ]
    }
   ],
   "source": [
    "#data_players.reset_index(inplace=True, drop=True)\n",
    "print(data_players)"
   ]
  },
  {
   "cell_type": "code",
   "execution_count": 7,
   "metadata": {},
   "outputs": [
    {
     "name": "stdout",
     "output_type": "stream",
     "text": [
      "        Rk       Player Pos   Age   Tm     G   GS    MP   FG   FGA  ...  \\\n",
      "608  495.0  Dwyane Wade  SG  36.0  TOT  67.0  3.0  22.9  4.5  10.2  ...   \n",
      "\n",
      "       FT%  ORB  DRB  TRB  AST  STL  BLK  TOV   PF  PS/G  \n",
      "608  0.714  0.7  3.0  3.8  3.4  0.9  0.7  2.1  1.9  11.4  \n",
      "\n",
      "[1 rows x 30 columns]\n"
     ]
    }
   ],
   "source": [
    "print(data_players[data_players[\"Player\"]==\"Dwyane Wade\"])"
   ]
  },
  {
   "cell_type": "code",
   "execution_count": 8,
   "metadata": {},
   "outputs": [
    {
     "name": "stdout",
     "output_type": "stream",
     "text": [
      "Empty DataFrame\n",
      "Columns: [Rk, Player, Pos, Age, Tm, G, GS, MP, FG, FGA, FG%, 3P, 3PA, 3P%, 2P, 2PA, 2P%, eFG%, FT, FTA, FT%, ORB, DRB, TRB, AST, STL, BLK, TOV, PF, PS/G]\n",
      "Index: []\n",
      "\n",
      "[0 rows x 30 columns]\n"
     ]
    }
   ],
   "source": [
    "# let's check if the player did not play at all for the season\n",
    "# all player at lease played one game \n",
    "print(data_players[data_players[\"G\"] == 0.0])"
   ]
  },
  {
   "cell_type": "code",
   "execution_count": 9,
   "metadata": {
    "scrolled": false
   },
   "outputs": [
    {
     "name": "stdout",
     "output_type": "stream",
     "text": [
      "            Player Pos   Age     G    GS    MP   FG  FGA    FG%   3P  ...  \\\n",
      "0     Alex Abrines  SG  24.0  75.0   8.0  15.1  1.5  3.9  0.395  1.1  ...   \n",
      "1       Quincy Acy  PF  27.0  70.0   8.0  19.4  1.9  5.2  0.356  1.5  ...   \n",
      "2     Steven Adams   C  24.0  76.0  76.0  32.7  5.9  9.4  0.629  0.0  ...   \n",
      "3      Bam Adebayo   C  20.0  69.0  19.0  19.8  2.5  4.9  0.512  0.0  ...   \n",
      "4    Arron Afflalo  SG  32.0  53.0   3.0  12.9  1.2  3.1  0.401  0.5  ...   \n",
      "..             ...  ..   ...   ...   ...   ...  ...  ...    ...  ...  ...   \n",
      "657    Cody Zeller   C  25.0  33.0   0.0  19.0  2.6  4.7  0.545  0.1  ...   \n",
      "658   Tyler Zeller   C  28.0  66.0  34.0  16.8  2.8  5.1  0.560  0.2  ...   \n",
      "661    Paul Zipser  SF  23.0  54.0  12.0  15.3  1.5  4.3  0.346  0.7  ...   \n",
      "662     Ante Zizic   C  21.0  32.0   2.0   6.7  1.5  2.1  0.731  0.0  ...   \n",
      "663    Ivica Zubac   C  20.0  43.0   0.0   9.5  1.4  2.8  0.500  0.0  ...   \n",
      "\n",
      "       FT%  ORB  DRB  TRB  AST  STL  BLK  TOV   PF  PS/G  \n",
      "0    0.848  0.3  1.2  1.5  0.4  0.5  0.1  0.3  1.7   4.7  \n",
      "1    0.817  0.6  3.1  3.7  0.8  0.5  0.4  0.9  2.1   5.9  \n",
      "2    0.557  5.1  4.0  9.0  1.2  1.2  1.0  1.7  2.8  13.9  \n",
      "3    0.721  1.7  3.8  5.5  1.5  0.5  0.6  1.0  2.0   6.9  \n",
      "4    0.846  0.1  1.2  1.2  0.6  0.1  0.2  0.4  1.1   3.4  \n",
      "..     ...  ...  ...  ...  ...  ...  ...  ...  ...   ...  \n",
      "657  0.718  2.0  3.3  5.4  0.9  0.4  0.6  1.0  2.5   7.1  \n",
      "658  0.722  1.7  3.0  4.6  0.7  0.2  0.5  0.7  1.9   6.7  \n",
      "661  0.731  0.2  2.2  2.4  0.9  0.4  0.3  0.8  1.6   4.0  \n",
      "662  0.724  0.8  1.1  1.9  0.2  0.1  0.4  0.3  0.9   3.7  \n",
      "663  0.765  1.0  1.8  2.9  0.6  0.2  0.3  0.6  1.1   3.7  \n",
      "\n",
      "[540 rows x 28 columns]\n"
     ]
    }
   ],
   "source": [
    "# we will drop the \"Tm\" (Team) column, since \"Tm\" = \"TOT\" doesn't apply for players who played for multiple teams \n",
    "# we will also drop the \"Rk\" column\n",
    "data_players = data_players.drop(['Rk', 'Tm'], axis=1)\n",
    "print(data_players)"
   ]
  },
  {
   "cell_type": "code",
   "execution_count": 10,
   "metadata": {},
   "outputs": [],
   "source": [
    "# drop rows if \"PS/G\" equal to \"0.0\"\n",
    "#data_players[data_players[\"PS/G\"] == 0.0]\n",
    "#data_players= data_players[data_players[\"PS/G\"] > 0.0]\n",
    "#data_players.shape"
   ]
  },
  {
   "cell_type": "code",
   "execution_count": 11,
   "metadata": {},
   "outputs": [
    {
     "data": {
      "text/plain": [
       "Player     0\n",
       "Pos        0\n",
       "Age        0\n",
       "G          0\n",
       "GS         0\n",
       "MP         0\n",
       "FG         0\n",
       "FGA        0\n",
       "FG%        3\n",
       "3P         0\n",
       "3PA        0\n",
       "3P%       49\n",
       "2P         0\n",
       "2PA        0\n",
       "2P%       13\n",
       "eFG%       3\n",
       "FT         0\n",
       "FTA        0\n",
       "FT%       39\n",
       "ORB        0\n",
       "DRB        0\n",
       "TRB        0\n",
       "AST        0\n",
       "STL        0\n",
       "BLK        0\n",
       "TOV        0\n",
       "PF         0\n",
       "PS/G       0\n",
       "dtype: int64"
      ]
     },
     "execution_count": 11,
     "metadata": {},
     "output_type": "execute_result"
    }
   ],
   "source": [
    "data_players.isnull().sum()"
   ]
  },
  {
   "cell_type": "code",
   "execution_count": 12,
   "metadata": {},
   "outputs": [],
   "source": [
    "# columns having nan data include:  3P%, FT%\n",
    "# replace \"FT%\" NaN as \"0.0\", which means that the player never got a chance for free throw \"FT\" and \"3P%\"\n",
    "data_players=data_players.fillna(0)\n",
    "#data_players.isnull().sum() # double check\n"
   ]
  },
  {
   "cell_type": "code",
   "execution_count": null,
   "metadata": {},
   "outputs": [],
   "source": []
  },
  {
   "cell_type": "code",
   "execution_count": 13,
   "metadata": {},
   "outputs": [
    {
     "data": {
      "text/plain": [
       "SG       128\n",
       "PG       111\n",
       "C        105\n",
       "PF       105\n",
       "SF        88\n",
       "SF-SG      2\n",
       "PG-SG      1\n",
       "Name: Pos, dtype: int64"
      ]
     },
     "execution_count": 13,
     "metadata": {},
     "output_type": "execute_result"
    }
   ],
   "source": [
    "data_players['Pos'].value_counts()"
   ]
  },
  {
   "cell_type": "code",
   "execution_count": 28,
   "metadata": {},
   "outputs": [
    {
     "data": {
      "text/plain": [
       "(540, 28)"
      ]
     },
     "execution_count": 28,
     "metadata": {},
     "output_type": "execute_result"
    }
   ],
   "source": [
    "# replace two-postion players postion with the first one\n",
    "data_players['Pos']=data_players['Pos'].replace(['SF-SG'], 'SF')\n",
    "data_players['Pos']=data_players['Pos'].replace(['PG-SG'], 'PG')\n",
    "data_players['Pos'].value_counts()\n",
    "data_players.shape"
   ]
  },
  {
   "cell_type": "code",
   "execution_count": 29,
   "metadata": {},
   "outputs": [],
   "source": [
    "# we'd better consider players who have played more than 8 games through the season(82 * 10%), total 82 games.\n",
    "#print(len(data_players[data_players['G']<= 8]))\n",
    "#players_below_8games = data_players[data_players['G']<= 8]\n",
    "#players_above_8games =  data_players[data_players['G']> 8]\n",
    "#players_above_8games['Pos'].value_counts()"
   ]
  },
  {
   "cell_type": "code",
   "execution_count": 30,
   "metadata": {},
   "outputs": [],
   "source": [
    "# we will map our label string to numeric numbers\n",
    "#Pos_dict = {\n",
    "#    \"SG\": 1,\n",
    "#    \"PG\": 2,\n",
    "#    \"C\": 3,\n",
    "#    \"PF\": 4,\n",
    "#    \"SF\": 5\n",
    "#}\n",
    "#data_players['Pos']=data_players['Pos'].map(Pos_dict)\n",
    "#data_players['Pos']=data_players['Pos'].astype('int64')\n",
    "#data_players"
   ]
  },
  {
   "cell_type": "markdown",
   "metadata": {},
   "source": [
    "## Data collinearity"
   ]
  },
  {
   "cell_type": "markdown",
   "metadata": {},
   "source": [
    "We note that there is a [data collinearity](https://en.wikipedia.org/wiki/Multicollinearity) issue in the raw data. Data collinearity means that one variable can be predicted by other variable in the data. For our case, we know that (See the \"Glossary\" section for definition): \n",
    "* FT% = FT/FTA\n",
    "\n",
    "* FG% = FG / FGA\n",
    "\n",
    "* 3P% = 3P/3PA\n",
    "\n",
    "* 2P% = 2P/2PA\n",
    "\n",
    "* TRB = ORB + DRB\n",
    "\n",
    "* eFG% = (FG + 0.5*3P)/FGA\n",
    "\n",
    "* PS/G = 3P\\*3 + 2P\\*2\n",
    "\n",
    "\n"
   ]
  },
  {
   "cell_type": "code",
   "execution_count": 31,
   "metadata": {},
   "outputs": [
    {
     "data": {
      "text/plain": [
       "0.3491603897709665"
      ]
     },
     "execution_count": 31,
     "metadata": {},
     "output_type": "execute_result"
    }
   ],
   "source": [
    "# Let's confirm the issue by checking the correlation coefficients between them.\n",
    "data_corr = data_players['FT%'].corr(data_players['FTA'])\n",
    "data_corr"
   ]
  },
  {
   "cell_type": "markdown",
   "metadata": {},
   "source": [
    "Data collinearity [makes it harder to interpret the model results](https://www.quora.com/Why-is-multicollinearity-bad-in-laymans-terms-In-feature-selection-for-a-regression-model-intended-for-use-in-prediction-why-is-it-a-bad-thing-to-have-multicollinearity-or-highly-correlated-independent-variables). We will address this issue by removing the derived variables (e.g., FT%) in our data, and keep the original records (FT, FTA)."
   ]
  },
  {
   "cell_type": "code",
   "execution_count": 32,
   "metadata": {},
   "outputs": [
    {
     "data": {
      "text/html": [
       "<div>\n",
       "<style scoped>\n",
       "    .dataframe tbody tr th:only-of-type {\n",
       "        vertical-align: middle;\n",
       "    }\n",
       "\n",
       "    .dataframe tbody tr th {\n",
       "        vertical-align: top;\n",
       "    }\n",
       "\n",
       "    .dataframe thead th {\n",
       "        text-align: right;\n",
       "    }\n",
       "</style>\n",
       "<table border=\"1\" class=\"dataframe\">\n",
       "  <thead>\n",
       "    <tr style=\"text-align: right;\">\n",
       "      <th></th>\n",
       "      <th>Player</th>\n",
       "      <th>Pos</th>\n",
       "      <th>Age</th>\n",
       "      <th>G</th>\n",
       "      <th>GS</th>\n",
       "      <th>MP</th>\n",
       "      <th>FG</th>\n",
       "      <th>FGA</th>\n",
       "      <th>3P</th>\n",
       "      <th>3PA</th>\n",
       "      <th>...</th>\n",
       "      <th>2PA</th>\n",
       "      <th>FT</th>\n",
       "      <th>FTA</th>\n",
       "      <th>ORB</th>\n",
       "      <th>DRB</th>\n",
       "      <th>AST</th>\n",
       "      <th>STL</th>\n",
       "      <th>BLK</th>\n",
       "      <th>TOV</th>\n",
       "      <th>PF</th>\n",
       "    </tr>\n",
       "  </thead>\n",
       "  <tbody>\n",
       "    <tr>\n",
       "      <th>0</th>\n",
       "      <td>Alex Abrines</td>\n",
       "      <td>SG</td>\n",
       "      <td>24.0</td>\n",
       "      <td>75.0</td>\n",
       "      <td>8.0</td>\n",
       "      <td>15.1</td>\n",
       "      <td>1.5</td>\n",
       "      <td>3.9</td>\n",
       "      <td>1.1</td>\n",
       "      <td>2.9</td>\n",
       "      <td>...</td>\n",
       "      <td>0.9</td>\n",
       "      <td>0.5</td>\n",
       "      <td>0.6</td>\n",
       "      <td>0.3</td>\n",
       "      <td>1.2</td>\n",
       "      <td>0.4</td>\n",
       "      <td>0.5</td>\n",
       "      <td>0.1</td>\n",
       "      <td>0.3</td>\n",
       "      <td>1.7</td>\n",
       "    </tr>\n",
       "    <tr>\n",
       "      <th>1</th>\n",
       "      <td>Quincy Acy</td>\n",
       "      <td>PF</td>\n",
       "      <td>27.0</td>\n",
       "      <td>70.0</td>\n",
       "      <td>8.0</td>\n",
       "      <td>19.4</td>\n",
       "      <td>1.9</td>\n",
       "      <td>5.2</td>\n",
       "      <td>1.5</td>\n",
       "      <td>4.2</td>\n",
       "      <td>...</td>\n",
       "      <td>1.0</td>\n",
       "      <td>0.7</td>\n",
       "      <td>0.9</td>\n",
       "      <td>0.6</td>\n",
       "      <td>3.1</td>\n",
       "      <td>0.8</td>\n",
       "      <td>0.5</td>\n",
       "      <td>0.4</td>\n",
       "      <td>0.9</td>\n",
       "      <td>2.1</td>\n",
       "    </tr>\n",
       "    <tr>\n",
       "      <th>2</th>\n",
       "      <td>Steven Adams</td>\n",
       "      <td>C</td>\n",
       "      <td>24.0</td>\n",
       "      <td>76.0</td>\n",
       "      <td>76.0</td>\n",
       "      <td>32.7</td>\n",
       "      <td>5.9</td>\n",
       "      <td>9.4</td>\n",
       "      <td>0.0</td>\n",
       "      <td>0.0</td>\n",
       "      <td>...</td>\n",
       "      <td>9.3</td>\n",
       "      <td>2.1</td>\n",
       "      <td>3.8</td>\n",
       "      <td>5.1</td>\n",
       "      <td>4.0</td>\n",
       "      <td>1.2</td>\n",
       "      <td>1.2</td>\n",
       "      <td>1.0</td>\n",
       "      <td>1.7</td>\n",
       "      <td>2.8</td>\n",
       "    </tr>\n",
       "    <tr>\n",
       "      <th>3</th>\n",
       "      <td>Bam Adebayo</td>\n",
       "      <td>C</td>\n",
       "      <td>20.0</td>\n",
       "      <td>69.0</td>\n",
       "      <td>19.0</td>\n",
       "      <td>19.8</td>\n",
       "      <td>2.5</td>\n",
       "      <td>4.9</td>\n",
       "      <td>0.0</td>\n",
       "      <td>0.1</td>\n",
       "      <td>...</td>\n",
       "      <td>4.8</td>\n",
       "      <td>1.9</td>\n",
       "      <td>2.6</td>\n",
       "      <td>1.7</td>\n",
       "      <td>3.8</td>\n",
       "      <td>1.5</td>\n",
       "      <td>0.5</td>\n",
       "      <td>0.6</td>\n",
       "      <td>1.0</td>\n",
       "      <td>2.0</td>\n",
       "    </tr>\n",
       "    <tr>\n",
       "      <th>4</th>\n",
       "      <td>Arron Afflalo</td>\n",
       "      <td>SG</td>\n",
       "      <td>32.0</td>\n",
       "      <td>53.0</td>\n",
       "      <td>3.0</td>\n",
       "      <td>12.9</td>\n",
       "      <td>1.2</td>\n",
       "      <td>3.1</td>\n",
       "      <td>0.5</td>\n",
       "      <td>1.3</td>\n",
       "      <td>...</td>\n",
       "      <td>1.7</td>\n",
       "      <td>0.4</td>\n",
       "      <td>0.5</td>\n",
       "      <td>0.1</td>\n",
       "      <td>1.2</td>\n",
       "      <td>0.6</td>\n",
       "      <td>0.1</td>\n",
       "      <td>0.2</td>\n",
       "      <td>0.4</td>\n",
       "      <td>1.1</td>\n",
       "    </tr>\n",
       "  </tbody>\n",
       "</table>\n",
       "<p>5 rows × 21 columns</p>\n",
       "</div>"
      ],
      "text/plain": [
       "          Player Pos   Age     G    GS    MP   FG  FGA   3P  3PA  ...  2PA  \\\n",
       "0   Alex Abrines  SG  24.0  75.0   8.0  15.1  1.5  3.9  1.1  2.9  ...  0.9   \n",
       "1     Quincy Acy  PF  27.0  70.0   8.0  19.4  1.9  5.2  1.5  4.2  ...  1.0   \n",
       "2   Steven Adams   C  24.0  76.0  76.0  32.7  5.9  9.4  0.0  0.0  ...  9.3   \n",
       "3    Bam Adebayo   C  20.0  69.0  19.0  19.8  2.5  4.9  0.0  0.1  ...  4.8   \n",
       "4  Arron Afflalo  SG  32.0  53.0   3.0  12.9  1.2  3.1  0.5  1.3  ...  1.7   \n",
       "\n",
       "    FT  FTA  ORB  DRB  AST  STL  BLK  TOV   PF  \n",
       "0  0.5  0.6  0.3  1.2  0.4  0.5  0.1  0.3  1.7  \n",
       "1  0.7  0.9  0.6  3.1  0.8  0.5  0.4  0.9  2.1  \n",
       "2  2.1  3.8  5.1  4.0  1.2  1.2  1.0  1.7  2.8  \n",
       "3  1.9  2.6  1.7  3.8  1.5  0.5  0.6  1.0  2.0  \n",
       "4  0.4  0.5  0.1  1.2  0.6  0.1  0.2  0.4  1.1  \n",
       "\n",
       "[5 rows x 21 columns]"
      ]
     },
     "execution_count": 32,
     "metadata": {},
     "output_type": "execute_result"
    }
   ],
   "source": [
    "cols_drop = ['FT%', 'FG%', '3P%', '2P%', 'TRB', 'eFG%', 'PS/G']\n",
    "data_players_dropped = data_players.drop(cols_drop, axis=1)\n",
    "data_players_dropped.shape\n",
    "data_players_dropped.head()"
   ]
  },
  {
   "cell_type": "code",
   "execution_count": 33,
   "metadata": {},
   "outputs": [
    {
     "data": {
      "text/plain": [
       "['Player',\n",
       " 'Pos',\n",
       " 'Age',\n",
       " 'G',\n",
       " 'GS',\n",
       " 'MP',\n",
       " 'FG',\n",
       " 'FGA',\n",
       " '3P',\n",
       " '3PA',\n",
       " '2P',\n",
       " '2PA',\n",
       " 'FT',\n",
       " 'FTA',\n",
       " 'ORB',\n",
       " 'DRB',\n",
       " 'AST',\n",
       " 'STL',\n",
       " 'BLK',\n",
       " 'TOV',\n",
       " 'PF']"
      ]
     },
     "execution_count": 33,
     "metadata": {},
     "output_type": "execute_result"
    }
   ],
   "source": [
    "data_players_dropped.columns.tolist()"
   ]
  },
  {
   "cell_type": "code",
   "execution_count": 34,
   "metadata": {},
   "outputs": [
    {
     "data": {
      "text/plain": [
       "Player    Al-Farouq Aminu\n",
       "Pos                    PF\n",
       "Age                    27\n",
       "G                      69\n",
       "GS                     67\n",
       "MP                     30\n",
       "FG                    3.3\n",
       "FGA                   8.4\n",
       "3P                    1.8\n",
       "3PA                   4.9\n",
       "2P                    1.5\n",
       "2PA                   3.5\n",
       "FT                    0.9\n",
       "FTA                   1.2\n",
       "ORB                   1.4\n",
       "DRB                   6.2\n",
       "AST                   1.2\n",
       "STL                   1.1\n",
       "BLK                   0.6\n",
       "TOV                   1.1\n",
       "PF                      2\n",
       "Name: 10, dtype: object"
      ]
     },
     "execution_count": 34,
     "metadata": {},
     "output_type": "execute_result"
    }
   ],
   "source": [
    "data_players_dropped.iloc[10]"
   ]
  },
  {
   "cell_type": "code",
   "execution_count": 41,
   "metadata": {},
   "outputs": [
    {
     "name": "stdout",
     "output_type": "stream",
     "text": [
      "     total_AST\n",
      "Pos           \n",
      "C        126.9\n",
      "PF       132.9\n",
      "PG       373.0\n",
      "SF       114.3\n",
      "SG       234.6\n",
      "SG    128\n",
      "PG    112\n",
      "C     105\n",
      "PF    105\n",
      "SF     90\n",
      "Name: Pos, dtype: int64\n",
      "C     1.208571\n",
      "PF    1.265714\n",
      "PG    3.330357\n",
      "SF    1.270000\n",
      "SG    1.832813\n",
      "dtype: float64\n"
     ]
    }
   ],
   "source": [
    "pos_total_ast = data_players_dropped.groupby('Pos', as_index=True).agg(total_AST = ('AST', sum))\n",
    "print(pos_total_ast)\n",
    "\n",
    "pos_count = data_players_dropped['Pos'].value_counts()\n",
    "print(pos_count)\n",
    "print(pos_total_ast['total_AST']/pos_count)"
   ]
  },
  {
   "cell_type": "code",
   "execution_count": null,
   "metadata": {},
   "outputs": [],
   "source": [
    "# let's export the cleaned dataframe for machine learning\n",
    "\n"
   ]
  },
  {
   "cell_type": "markdown",
   "metadata": {},
   "source": [
    "## Exploratory Data Analysis"
   ]
  },
  {
   "cell_type": "code",
   "execution_count": 107,
   "metadata": {},
   "outputs": [],
   "source": [
    "# https://machinelearningmastery.com/visualize-machine-learning-data-python-pandas/"
   ]
  },
  {
   "cell_type": "code",
   "execution_count": 33,
   "metadata": {},
   "outputs": [
    {
     "data": {
      "text/plain": [
       "array([[<matplotlib.axes._subplots.AxesSubplot object at 0x7f6a728ad278>]],\n",
       "      dtype=object)"
      ]
     },
     "execution_count": 33,
     "metadata": {},
     "output_type": "execute_result"
    },
    {
     "name": "stderr",
     "output_type": "stream",
     "text": [
      "findfont: Font family ['Times New Roman'] not found. Falling back to DejaVu Sans.\n",
      "findfont: Font family ['Times New Roman'] not found. Falling back to DejaVu Sans.\n"
     ]
    },
    {
     "data": {
      "image/png": "[encoded data removed]",
      "text/plain": [
       "<Figure size 432x288 with 1 Axes>"
      ]
     },
     "metadata": {
      "needs_background": "light"
     },
     "output_type": "display_data"
    }
   ],
   "source": [
    "data_players.hist(column='Age')"
   ]
  },
  {
   "cell_type": "code",
   "execution_count": 34,
   "metadata": {},
   "outputs": [],
   "source": [
    "#pd.pivot_table(data=players_above_8games, index='Age', values='Pos')"
   ]
  },
  {
   "cell_type": "code",
   "execution_count": 35,
   "metadata": {},
   "outputs": [
    {
     "data": {
      "text/plain": [
       "array([[<matplotlib.axes._subplots.AxesSubplot object at 0x7f6a707f19b0>]],\n",
       "      dtype=object)"
      ]
     },
     "execution_count": 35,
     "metadata": {},
     "output_type": "execute_result"
    },
    {
     "data": {
      "image/png": "[encoded data removed]",
      "text/plain": [
       "<Figure size 432x288 with 1 Axes>"
      ]
     },
     "metadata": {
      "needs_background": "light"
     },
     "output_type": "display_data"
    }
   ],
   "source": [
    "    data_players.hist(column='G', bins=20)"
   ]
  },
  {
   "cell_type": "code",
   "execution_count": 36,
   "metadata": {},
   "outputs": [
    {
     "data": {
      "text/plain": [
       "array([[<matplotlib.axes._subplots.AxesSubplot object at 0x7f6ab40f4b38>]],\n",
       "      dtype=object)"
      ]
     },
     "execution_count": 36,
     "metadata": {},
     "output_type": "execute_result"
    },
    {
     "data": {
      "image/png": "[encoded data removed]",
      "text/plain": [
       "<Figure size 432x288 with 1 Axes>"
      ]
     },
     "metadata": {
      "needs_background": "light"
     },
     "output_type": "display_data"
    }
   ],
   "source": [
    "data_players.hist(column='MP', bins=20)"
   ]
  },
  {
   "cell_type": "code",
   "execution_count": 74,
   "metadata": {},
   "outputs": [
    {
     "data": {
      "text/plain": [
       "array([[<matplotlib.axes._subplots.AxesSubplot object at 0x7f456b0bb630>]],\n",
       "      dtype=object)"
      ]
     },
     "execution_count": 74,
     "metadata": {},
     "output_type": "execute_result"
    },
    {
     "data": {
      "image/png": "[encoded data removed]",
      "text/plain": [
       "<matplotlib.figure.Figure at 0x7f456afae8d0>"
      ]
     },
     "metadata": {},
     "output_type": "display_data"
    }
   ],
   "source": [
    "#players_above_8games.hist(column='MP', bins=20)"
   ]
  },
  {
   "cell_type": "code",
   "execution_count": null,
   "metadata": {},
   "outputs": [],
   "source": []
  },
  {
   "cell_type": "code",
   "execution_count": null,
   "metadata": {},
   "outputs": [],
   "source": []
  },
  {
   "cell_type": "code",
   "execution_count": null,
   "metadata": {},
   "outputs": [],
   "source": []
  },
  {
   "cell_type": "code",
   "execution_count": null,
   "metadata": {},
   "outputs": [],
   "source": []
  },
  {
   "cell_type": "code",
   "execution_count": null,
   "metadata": {},
   "outputs": [],
   "source": []
  },
  {
   "cell_type": "code",
   "execution_count": null,
   "metadata": {},
   "outputs": [],
   "source": []
  },
  {
   "cell_type": "markdown",
   "metadata": {},
   "source": [
    "** Normalization in Pandas**\n",
    "\n",
    "* to use mean normalization:\n",
    "\n",
    "normalized_df=(df-df.mean())/df.std()\n",
    "\n",
    "* to use min-max normalization:\n",
    "\n",
    "normalized_df=(df-df.min())/(df.max()-df.min())"
   ]
  },
  {
   "cell_type": "code",
   "execution_count": null,
   "metadata": {},
   "outputs": [],
   "source": []
  }
 ],
 "metadata": {
  "kernelspec": {
   "display_name": "Python 3",
   "language": "python",
   "name": "python3"
  },
  "language_info": {
   "codemirror_mode": {
    "name": "ipython",
    "version": 3
   },
   "file_extension": ".py",
   "mimetype": "text/x-python",
   "name": "python",
   "nbconvert_exporter": "python",
   "pygments_lexer": "ipython3",
   "version": "3.6.8"
  }
 },
 "nbformat": 4,
 "nbformat_minor": 2
}
